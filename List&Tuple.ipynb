{
 "cells": [
  {
   "cell_type": "code",
   "execution_count": 1,
   "id": "b8f36044-43ec-4bd2-9cbe-9eddd34c241c",
   "metadata": {},
   "outputs": [],
   "source": [
    "#List idexing\n",
    "l=[1,2,3,4,5,6]\n"
   ]
  },
  {
   "cell_type": "code",
   "execution_count": 3,
   "id": "e6a73b5b-81dd-4b31-b5f0-376e42608cf7",
   "metadata": {},
   "outputs": [
    {
     "data": {
      "text/plain": [
       "2"
      ]
     },
     "execution_count": 3,
     "metadata": {},
     "output_type": "execute_result"
    }
   ],
   "source": [
    "l[1]"
   ]
  },
  {
   "cell_type": "code",
   "execution_count": 5,
   "id": "d048c244-945a-4b70-a69a-7d4e22dd5689",
   "metadata": {},
   "outputs": [
    {
     "data": {
      "text/plain": [
       "[1, 2, 3, 4]"
      ]
     },
     "execution_count": 5,
     "metadata": {},
     "output_type": "execute_result"
    }
   ],
   "source": [
    "#List slicing\n",
    "l[0:4]"
   ]
  },
  {
   "cell_type": "code",
   "execution_count": 7,
   "id": "e010956f-adcf-4cc3-9506-7c897035653f",
   "metadata": {},
   "outputs": [],
   "source": [
    "#changing values\n",
    "l[1]=20"
   ]
  },
  {
   "cell_type": "code",
   "execution_count": 9,
   "id": "41f7ddb7-1fc4-4fc8-8626-75447ebc1d0a",
   "metadata": {},
   "outputs": [
    {
     "name": "stdout",
     "output_type": "stream",
     "text": [
      "[1, 20, 3, 4, 5, 6]\n"
     ]
    }
   ],
   "source": [
    "print(l)"
   ]
  },
  {
   "cell_type": "code",
   "execution_count": 11,
   "id": "bbe34676-6a1a-4587-88df-88caebbed8ae",
   "metadata": {},
   "outputs": [
    {
     "name": "stdout",
     "output_type": "stream",
     "text": [
      "[1, 20, 50, 60]\n"
     ]
    }
   ],
   "source": [
    "#list slicing \n",
    "l[2:5]=[50,60]\n",
    "print(l)"
   ]
  },
  {
   "cell_type": "code",
   "execution_count": 15,
   "id": "9643b015-91e2-43c6-9a6b-e1ece77efee9",
   "metadata": {},
   "outputs": [
    {
     "name": "stdout",
     "output_type": "stream",
     "text": [
      "[1, 'HI', 56, 35, 22, 67, 45, 67, 67, 45, 67, 67, 45, 67, 67, 45, 67]\n"
     ]
    }
   ],
   "source": [
    "l[1:5]=[\"HI\",56,35,22,67,45,67]\n",
    "print(l)"
   ]
  },
  {
   "cell_type": "code",
   "execution_count": 13,
   "id": "dfee8364-86b7-44c3-8976-5d70948de693",
   "metadata": {},
   "outputs": [],
   "source": [
    "#sort\n",
    "x=[6,5,7,8,9]\n",
    "x.sort()"
   ]
  },
  {
   "cell_type": "code",
   "execution_count": 14,
   "id": "50a97f71-b00b-4b24-8fc4-f80548ad617a",
   "metadata": {},
   "outputs": [
    {
     "name": "stdout",
     "output_type": "stream",
     "text": [
      "[5, 6, 7, 8, 9]\n"
     ]
    }
   ],
   "source": [
    "print(x)\n"
   ]
  },
  {
   "cell_type": "code",
   "execution_count": 15,
   "id": "e9338a65-6cda-4817-8c0f-a1b177003ac4",
   "metadata": {},
   "outputs": [
    {
     "name": "stdout",
     "output_type": "stream",
     "text": [
      "[9, 8, 7, 6, 5]\n"
     ]
    }
   ],
   "source": [
    "x.sort(reverse=True)\n",
    "print(x)"
   ]
  },
  {
   "cell_type": "code",
   "execution_count": 16,
   "id": "cc70b489-970c-4194-84fe-1693d18203de",
   "metadata": {},
   "outputs": [
    {
     "name": "stdout",
     "output_type": "stream",
     "text": [
      "[5, 6, 7, 8, 9]\n"
     ]
    }
   ],
   "source": [
    "x.reverse()\n",
    "print(x)"
   ]
  },
  {
   "cell_type": "code",
   "execution_count": 17,
   "id": "c206ad16-2bee-4271-b064-ffe79fc5aa33",
   "metadata": {},
   "outputs": [
    {
     "name": "stdout",
     "output_type": "stream",
     "text": [
      "[5, 6, 7, 8, 9]\n"
     ]
    }
   ],
   "source": [
    "y=x.copy()\n",
    "print(y)"
   ]
  },
  {
   "cell_type": "code",
   "execution_count": null,
   "id": "76153ddc-0134-47f7-a762-e9406b111397",
   "metadata": {},
   "outputs": [],
   "source": []
  },
  {
   "cell_type": "code",
   "execution_count": null,
   "id": "915317e2-57ad-40a3-9a26-03e6a5c0843d",
   "metadata": {},
   "outputs": [],
   "source": [
    "Tuple"
   ]
  },
  {
   "cell_type": "code",
   "execution_count": 1,
   "id": "3e3d774f-5373-4461-b18d-5399b4294466",
   "metadata": {},
   "outputs": [
    {
     "name": "stdout",
     "output_type": "stream",
     "text": [
      "3\n"
     ]
    }
   ],
   "source": [
    "#tuple   (only slicing and indexing are allowed it is immutable)\n",
    "a=(3,4,5,6,7)\n",
    "(x,y,z,a,b)=a\n",
    "print(x)\n"
   ]
  },
  {
   "cell_type": "code",
   "execution_count": 4,
   "id": "ae9b4422-c182-414c-ad42-5635d4773e81",
   "metadata": {},
   "outputs": [
    {
     "name": "stdout",
     "output_type": "stream",
     "text": [
      "hi\n"
     ]
    }
   ],
   "source": [
    "tup=(\"hi\",\"hello\",\"abc\",\"xyz\",8,9,6)\n",
    "(a,*b,c)=tup\n",
    "print(a)\n",
    "#print(b)\n",
    "#print(c)"
   ]
  },
  {
   "cell_type": "code",
   "execution_count": 6,
   "id": "369711e9-ed64-419e-8da5-3a7b2a7dd29c",
   "metadata": {},
   "outputs": [
    {
     "name": "stdout",
     "output_type": "stream",
     "text": [
      "['hello', 'abc', 'xyz', 8, 9]\n"
     ]
    }
   ],
   "source": [
    "print(b)"
   ]
  },
  {
   "cell_type": "code",
   "execution_count": 8,
   "id": "12ce9165-ffbc-4676-945e-2020081419b6",
   "metadata": {},
   "outputs": [
    {
     "name": "stdout",
     "output_type": "stream",
     "text": [
      "6\n"
     ]
    }
   ],
   "source": [
    "print(c)"
   ]
  },
  {
   "cell_type": "code",
   "execution_count": 10,
   "id": "d26ed16d-1705-44b2-9067-9abe2413473f",
   "metadata": {},
   "outputs": [
    {
     "name": "stdout",
     "output_type": "stream",
     "text": [
      "(5, 6, 7, 9, 0, 3)\n"
     ]
    }
   ],
   "source": [
    "#merging two tuples\n",
    "t=(5,6,7)\n",
    "t1=(9,0,3)\n",
    "s=t+t1\n",
    "print(s)"
   ]
  },
  {
   "cell_type": "code",
   "execution_count": 11,
   "id": "6cdcfe13-8236-48ff-84db-1c6d363fd645",
   "metadata": {},
   "outputs": [
    {
     "data": {
      "text/plain": [
       "4"
      ]
     },
     "execution_count": 11,
     "metadata": {},
     "output_type": "execute_result"
    }
   ],
   "source": [
    "#count\n",
    "x=(9,5,6,5,5,5,7,7,8,9,9,0)\n",
    "x.count(5)"
   ]
  }
 ],
 "metadata": {
  "kernelspec": {
   "display_name": "Python 3 (ipykernel)",
   "language": "python",
   "name": "python3"
  },
  "language_info": {
   "codemirror_mode": {
    "name": "ipython",
    "version": 3
   },
   "file_extension": ".py",
   "mimetype": "text/x-python",
   "name": "python",
   "nbconvert_exporter": "python",
   "pygments_lexer": "ipython3",
   "version": "3.12.7"
  }
 },
 "nbformat": 4,
 "nbformat_minor": 5
}
